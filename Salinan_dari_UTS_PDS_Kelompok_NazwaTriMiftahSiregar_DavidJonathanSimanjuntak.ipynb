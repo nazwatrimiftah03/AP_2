{
  "nbformat": 4,
  "nbformat_minor": 0,
  "metadata": {
    "colab": {
      "provenance": [],
      "include_colab_link": true
    },
    "kernelspec": {
      "name": "python3",
      "display_name": "Python 3"
    },
    "language_info": {
      "name": "python"
    }
  },
  "cells": [
    {
      "cell_type": "markdown",
      "metadata": {
        "id": "view-in-github",
        "colab_type": "text"
      },
      "source": [
        "<a href=\"https://colab.research.google.com/github/nazwatrimiftah03/AP_2/blob/main/Salinan_dari_UTS_PDS_Kelompok_NazwaTriMiftahSiregar_DavidJonathanSimanjuntak.ipynb\" target=\"_parent\"><img src=\"https://colab.research.google.com/assets/colab-badge.svg\" alt=\"Open In Colab\"/></a>"
      ]
    },
    {
      "cell_type": "markdown",
      "source": [
        "\n",
        "# UTS PDS 2025\n",
        "\n",
        "**Hai gais! Wkwkwkwk~ 😆**  \n",
        "Selamat datang di **UTS Probabilitas & Statistika 2025**! **Xixixi~** Ngakak abiez dah! 🎉  \n",
        "\n",
        "**📌 Bentuk UTS**: **Take Home** (bukan waktu singkat, jadi santuy~)  \n",
        "**⏰ Deadline**: **Sesuai jadwal yang ditentukan Aslab kalian!** (jangan sampe telat, nangis lo ntar 😭)  \n",
        "\n",
        "**🚀 Tips Mengerjakan**:  \n",
        "- **Kerjain ASAP** jangan nge-gas last minute, bahaya! 💀  \n",
        "- **Baca modul & contoh** biar ga sesat di jalan~ 🧭  \n",
        "- **Tanya Aslab** kalo bingung, jangan malu-malu! 🙋  \n",
        "\n",
        "**🔥 Semangat ya gaes!**  \n",
        "Yang rajin dapet **nilai A**, yang males... **eh, sorry ya~** 😜  \n",
        "\n",
        "**~ Aslab yang baik hati & tidak sombong~** 💖  \n",
        "\n",
        "*(Sambil ngetik sambil ketawa sendiri... wkwkwk~)* 🎶"
      ],
      "metadata": {
        "id": "uRZQmdiDL39-"
      }
    },
    {
      "cell_type": "markdown",
      "source": [
        "## Isi Data Diri Kamu\n"
      ],
      "metadata": {
        "id": "9rVbg2O1M6kw"
      }
    },
    {
      "cell_type": "code",
      "source": [
        "#Nama          : [Nazwa Tri Mifthah Siregar]\n",
        "#NIM           : [241401106]\n",
        "\n",
        "#Nama Pasangan : [David Jonathan Simanjuntak]\n",
        "#NIM Pasangan  : [241401121]\n",
        "\n",
        "#Lab           : [PDS-2] (Contoh: PDS-6)\n",
        "#Nama Aslab    : [Arvin Sebastian Candra]"
      ],
      "metadata": {
        "id": "h1GX3P4dPOA6"
      },
      "execution_count": null,
      "outputs": []
    },
    {
      "cell_type": "markdown",
      "source": [
        "\n",
        "\n",
        "_______________________________________________________\n",
        "\n",
        "**⚠️ CATATAN:**\n",
        "\n",
        "Ganti tanda [ ] dengan data asli kalian!\n",
        "\n",
        "Kalo dikosongin, nilai auto \"E\" lho! 😱"
      ],
      "metadata": {
        "id": "h6-QPU2XPd-M"
      }
    },
    {
      "cell_type": "markdown",
      "source": [
        "## Deskripsi UTS\n",
        "\n",
        "UTS kali ini kita akan langsung praktik mengolah data nyata berdasarkan materi modul 1-4 yang sudah dipelajari. Tenang aja, soalnya dibuat simpel dan tidak terlalu rumit kok. Pertama-tama, kalian perlu memahami dataset yang diberikan. Silahkan baca deskripsi dataset dibawah untuk memahami data seperti apa yang akan dihadapi\n"
      ],
      "metadata": {
        "id": "Ck5oNPXOPiPZ"
      }
    },
    {
      "cell_type": "markdown",
      "source": [
        "📊 Deskripsi Dataset: Metrik Lalu Lintas dan Keterlibatan Harian Website  \n",
        "\n",
        "Dataset ini berisi informasi lalu lintas web harian dan keterlibatan pengguna untuk sebuah website aktif, yang direkam dalam jangka waktu yang panjang. Dataset ini memberikan gambaran komprehensif tentang bagaimana aktivitas pengguna di platform bervariasi sebagai respons terhadap inisiatif pemasaran dan faktor temporal seperti akhir pekan dan hari libur.  \n",
        "\n",
        "Dataset ini sangat cocok untuk:  \n",
        "- Peramalan deret waktu (time series forecasting)  \n",
        "- Analisis musiman (seasonality analysis)  \n",
        "- Studi efektivitas pemasaran  \n",
        "\n",
        "Dataset ini bernilai tinggi baik untuk aplikasi akademik maupun praktis di bidang:  \n",
        "- Analisis digital  \n",
        "- Strategi pemasaran  \n",
        "- Pemodelan prediktif  \n",
        "\n",
        "🧾 Skenario Penggunaan:  \n",
        "\n",
        "- **Memperkirakan jumlah kunjungan halaman** di masa depan menggunakan perilaku masa lalu dan faktor pengaruh eksternal  \n",
        "- **Menilai dampak anggaran iklan** terhadap lalu lintas web dan ROI (Return on Investment)  \n",
        "- **Mendeteksi pola musiman dan pola mingguan/siklus** dalam keterlibatan pengguna  \n",
        "- **Mengembangkan model berbasis waktu** untuk perencanaan sumber daya (misalnya: beban server, jadwal konten)  \n",
        "- **Pelatihan dan pengujian model deret waktu** seperti ARIMA, SARIMA, RNN, LSTM, dan GRU  \n",
        "\n",
        "Fitur Utama:  \n",
        "✔ Data harian yang konsisten  \n",
        "✔ Variabel pemasaran dan temporal yang tercatat  \n",
        "✔ Cocok untuk pemodelan prediktif tingkat lanjut  \n",
        "\n",
        "Dataset ini ideal untuk peneliti, analis data, dan praktisi pemasaran digital yang ingin menganalisis pola lalu lintas website secara mendalam. 🚀"
      ],
      "metadata": {
        "id": "SChEmmCiLWgw"
      }
    },
    {
      "cell_type": "code",
      "source": [
        "import kagglehub\n",
        "import pandas as pd\n",
        "import os\n",
        "\n",
        "# Download latest version\n",
        "path = kagglehub.dataset_download(\"michealknight/personal-ecommerce-website-ad-cost-and-viewer-count\")\n",
        "\n",
        "# Get the CSV file path within the downloaded directory\n",
        "# Assumes there's only one CSV file in the directory\n",
        "csv_file = [f for f in os.listdir(path) if f.endswith('.csv')][0]\n",
        "csv_file_path = os.path.join(path, csv_file)\n",
        "\n",
        "# Now read the CSV file\n",
        "df = pd.read_csv(csv_file_path)\n",
        "df"
      ],
      "metadata": {
        "id": "qx5FVlEFHVtr",
        "colab": {
          "base_uri": "https://localhost:8080/",
          "height": 423
        },
        "outputId": "f844c527-fcf6-4be3-b88a-8710601fc8fa"
      },
      "execution_count": 1,
      "outputs": [
        {
          "output_type": "execute_result",
          "data": {
            "text/plain": [
              "      Unnamed: 0   timestamp   page_views    ad_spend  is_weekend day_of_week  \\\n",
              "0              0  2022-01-01  1165.962767  194.901425        True    Saturday   \n",
              "1              1  2022-01-02  1191.485835  175.852071        True      Sunday   \n",
              "2              2  2022-01-03  1266.928269  269.430656       False      Monday   \n",
              "3              3  2022-01-04  1364.193858  295.690896       False     Tuesday   \n",
              "4              4  2022-01-05  1013.282520  242.975399       False   Wednesday   \n",
              "...          ...         ...          ...         ...         ...         ...   \n",
              "1091        1091  2024-12-27  1870.700150  248.883333       False      Friday   \n",
              "1092        1092  2024-12-28  1977.793002  201.828886        True    Saturday   \n",
              "1093        1093  2024-12-29  2229.203908  181.558377        True      Sunday   \n",
              "1094        1094  2024-12-30  2286.211502  271.979202       False      Monday   \n",
              "1095        1095  2024-12-31  1992.601776  247.578503       False     Tuesday   \n",
              "\n",
              "      is_holiday  \n",
              "0           True  \n",
              "1          False  \n",
              "2          False  \n",
              "3          False  \n",
              "4          False  \n",
              "...          ...  \n",
              "1091       False  \n",
              "1092       False  \n",
              "1093       False  \n",
              "1094       False  \n",
              "1095       False  \n",
              "\n",
              "[1096 rows x 7 columns]"
            ],
            "text/html": [
              "\n",
              "  <div id=\"df-3dfb9ba1-f948-40b7-859c-e20c58cc61c1\" class=\"colab-df-container\">\n",
              "    <div>\n",
              "<style scoped>\n",
              "    .dataframe tbody tr th:only-of-type {\n",
              "        vertical-align: middle;\n",
              "    }\n",
              "\n",
              "    .dataframe tbody tr th {\n",
              "        vertical-align: top;\n",
              "    }\n",
              "\n",
              "    .dataframe thead th {\n",
              "        text-align: right;\n",
              "    }\n",
              "</style>\n",
              "<table border=\"1\" class=\"dataframe\">\n",
              "  <thead>\n",
              "    <tr style=\"text-align: right;\">\n",
              "      <th></th>\n",
              "      <th>Unnamed: 0</th>\n",
              "      <th>timestamp</th>\n",
              "      <th>page_views</th>\n",
              "      <th>ad_spend</th>\n",
              "      <th>is_weekend</th>\n",
              "      <th>day_of_week</th>\n",
              "      <th>is_holiday</th>\n",
              "    </tr>\n",
              "  </thead>\n",
              "  <tbody>\n",
              "    <tr>\n",
              "      <th>0</th>\n",
              "      <td>0</td>\n",
              "      <td>2022-01-01</td>\n",
              "      <td>1165.962767</td>\n",
              "      <td>194.901425</td>\n",
              "      <td>True</td>\n",
              "      <td>Saturday</td>\n",
              "      <td>True</td>\n",
              "    </tr>\n",
              "    <tr>\n",
              "      <th>1</th>\n",
              "      <td>1</td>\n",
              "      <td>2022-01-02</td>\n",
              "      <td>1191.485835</td>\n",
              "      <td>175.852071</td>\n",
              "      <td>True</td>\n",
              "      <td>Sunday</td>\n",
              "      <td>False</td>\n",
              "    </tr>\n",
              "    <tr>\n",
              "      <th>2</th>\n",
              "      <td>2</td>\n",
              "      <td>2022-01-03</td>\n",
              "      <td>1266.928269</td>\n",
              "      <td>269.430656</td>\n",
              "      <td>False</td>\n",
              "      <td>Monday</td>\n",
              "      <td>False</td>\n",
              "    </tr>\n",
              "    <tr>\n",
              "      <th>3</th>\n",
              "      <td>3</td>\n",
              "      <td>2022-01-04</td>\n",
              "      <td>1364.193858</td>\n",
              "      <td>295.690896</td>\n",
              "      <td>False</td>\n",
              "      <td>Tuesday</td>\n",
              "      <td>False</td>\n",
              "    </tr>\n",
              "    <tr>\n",
              "      <th>4</th>\n",
              "      <td>4</td>\n",
              "      <td>2022-01-05</td>\n",
              "      <td>1013.282520</td>\n",
              "      <td>242.975399</td>\n",
              "      <td>False</td>\n",
              "      <td>Wednesday</td>\n",
              "      <td>False</td>\n",
              "    </tr>\n",
              "    <tr>\n",
              "      <th>...</th>\n",
              "      <td>...</td>\n",
              "      <td>...</td>\n",
              "      <td>...</td>\n",
              "      <td>...</td>\n",
              "      <td>...</td>\n",
              "      <td>...</td>\n",
              "      <td>...</td>\n",
              "    </tr>\n",
              "    <tr>\n",
              "      <th>1091</th>\n",
              "      <td>1091</td>\n",
              "      <td>2024-12-27</td>\n",
              "      <td>1870.700150</td>\n",
              "      <td>248.883333</td>\n",
              "      <td>False</td>\n",
              "      <td>Friday</td>\n",
              "      <td>False</td>\n",
              "    </tr>\n",
              "    <tr>\n",
              "      <th>1092</th>\n",
              "      <td>1092</td>\n",
              "      <td>2024-12-28</td>\n",
              "      <td>1977.793002</td>\n",
              "      <td>201.828886</td>\n",
              "      <td>True</td>\n",
              "      <td>Saturday</td>\n",
              "      <td>False</td>\n",
              "    </tr>\n",
              "    <tr>\n",
              "      <th>1093</th>\n",
              "      <td>1093</td>\n",
              "      <td>2024-12-29</td>\n",
              "      <td>2229.203908</td>\n",
              "      <td>181.558377</td>\n",
              "      <td>True</td>\n",
              "      <td>Sunday</td>\n",
              "      <td>False</td>\n",
              "    </tr>\n",
              "    <tr>\n",
              "      <th>1094</th>\n",
              "      <td>1094</td>\n",
              "      <td>2024-12-30</td>\n",
              "      <td>2286.211502</td>\n",
              "      <td>271.979202</td>\n",
              "      <td>False</td>\n",
              "      <td>Monday</td>\n",
              "      <td>False</td>\n",
              "    </tr>\n",
              "    <tr>\n",
              "      <th>1095</th>\n",
              "      <td>1095</td>\n",
              "      <td>2024-12-31</td>\n",
              "      <td>1992.601776</td>\n",
              "      <td>247.578503</td>\n",
              "      <td>False</td>\n",
              "      <td>Tuesday</td>\n",
              "      <td>False</td>\n",
              "    </tr>\n",
              "  </tbody>\n",
              "</table>\n",
              "<p>1096 rows × 7 columns</p>\n",
              "</div>\n",
              "    <div class=\"colab-df-buttons\">\n",
              "\n",
              "  <div class=\"colab-df-container\">\n",
              "    <button class=\"colab-df-convert\" onclick=\"convertToInteractive('df-3dfb9ba1-f948-40b7-859c-e20c58cc61c1')\"\n",
              "            title=\"Convert this dataframe to an interactive table.\"\n",
              "            style=\"display:none;\">\n",
              "\n",
              "  <svg xmlns=\"http://www.w3.org/2000/svg\" height=\"24px\" viewBox=\"0 -960 960 960\">\n",
              "    <path d=\"M120-120v-720h720v720H120Zm60-500h600v-160H180v160Zm220 220h160v-160H400v160Zm0 220h160v-160H400v160ZM180-400h160v-160H180v160Zm440 0h160v-160H620v160ZM180-180h160v-160H180v160Zm440 0h160v-160H620v160Z\"/>\n",
              "  </svg>\n",
              "    </button>\n",
              "\n",
              "  <style>\n",
              "    .colab-df-container {\n",
              "      display:flex;\n",
              "      gap: 12px;\n",
              "    }\n",
              "\n",
              "    .colab-df-convert {\n",
              "      background-color: #E8F0FE;\n",
              "      border: none;\n",
              "      border-radius: 50%;\n",
              "      cursor: pointer;\n",
              "      display: none;\n",
              "      fill: #1967D2;\n",
              "      height: 32px;\n",
              "      padding: 0 0 0 0;\n",
              "      width: 32px;\n",
              "    }\n",
              "\n",
              "    .colab-df-convert:hover {\n",
              "      background-color: #E2EBFA;\n",
              "      box-shadow: 0px 1px 2px rgba(60, 64, 67, 0.3), 0px 1px 3px 1px rgba(60, 64, 67, 0.15);\n",
              "      fill: #174EA6;\n",
              "    }\n",
              "\n",
              "    .colab-df-buttons div {\n",
              "      margin-bottom: 4px;\n",
              "    }\n",
              "\n",
              "    [theme=dark] .colab-df-convert {\n",
              "      background-color: #3B4455;\n",
              "      fill: #D2E3FC;\n",
              "    }\n",
              "\n",
              "    [theme=dark] .colab-df-convert:hover {\n",
              "      background-color: #434B5C;\n",
              "      box-shadow: 0px 1px 3px 1px rgba(0, 0, 0, 0.15);\n",
              "      filter: drop-shadow(0px 1px 2px rgba(0, 0, 0, 0.3));\n",
              "      fill: #FFFFFF;\n",
              "    }\n",
              "  </style>\n",
              "\n",
              "    <script>\n",
              "      const buttonEl =\n",
              "        document.querySelector('#df-3dfb9ba1-f948-40b7-859c-e20c58cc61c1 button.colab-df-convert');\n",
              "      buttonEl.style.display =\n",
              "        google.colab.kernel.accessAllowed ? 'block' : 'none';\n",
              "\n",
              "      async function convertToInteractive(key) {\n",
              "        const element = document.querySelector('#df-3dfb9ba1-f948-40b7-859c-e20c58cc61c1');\n",
              "        const dataTable =\n",
              "          await google.colab.kernel.invokeFunction('convertToInteractive',\n",
              "                                                    [key], {});\n",
              "        if (!dataTable) return;\n",
              "\n",
              "        const docLinkHtml = 'Like what you see? Visit the ' +\n",
              "          '<a target=\"_blank\" href=https://colab.research.google.com/notebooks/data_table.ipynb>data table notebook</a>'\n",
              "          + ' to learn more about interactive tables.';\n",
              "        element.innerHTML = '';\n",
              "        dataTable['output_type'] = 'display_data';\n",
              "        await google.colab.output.renderOutput(dataTable, element);\n",
              "        const docLink = document.createElement('div');\n",
              "        docLink.innerHTML = docLinkHtml;\n",
              "        element.appendChild(docLink);\n",
              "      }\n",
              "    </script>\n",
              "  </div>\n",
              "\n",
              "\n",
              "    <div id=\"df-e67de480-3be2-4b33-bba2-eef29ce626da\">\n",
              "      <button class=\"colab-df-quickchart\" onclick=\"quickchart('df-e67de480-3be2-4b33-bba2-eef29ce626da')\"\n",
              "                title=\"Suggest charts\"\n",
              "                style=\"display:none;\">\n",
              "\n",
              "<svg xmlns=\"http://www.w3.org/2000/svg\" height=\"24px\"viewBox=\"0 0 24 24\"\n",
              "     width=\"24px\">\n",
              "    <g>\n",
              "        <path d=\"M19 3H5c-1.1 0-2 .9-2 2v14c0 1.1.9 2 2 2h14c1.1 0 2-.9 2-2V5c0-1.1-.9-2-2-2zM9 17H7v-7h2v7zm4 0h-2V7h2v10zm4 0h-2v-4h2v4z\"/>\n",
              "    </g>\n",
              "</svg>\n",
              "      </button>\n",
              "\n",
              "<style>\n",
              "  .colab-df-quickchart {\n",
              "      --bg-color: #E8F0FE;\n",
              "      --fill-color: #1967D2;\n",
              "      --hover-bg-color: #E2EBFA;\n",
              "      --hover-fill-color: #174EA6;\n",
              "      --disabled-fill-color: #AAA;\n",
              "      --disabled-bg-color: #DDD;\n",
              "  }\n",
              "\n",
              "  [theme=dark] .colab-df-quickchart {\n",
              "      --bg-color: #3B4455;\n",
              "      --fill-color: #D2E3FC;\n",
              "      --hover-bg-color: #434B5C;\n",
              "      --hover-fill-color: #FFFFFF;\n",
              "      --disabled-bg-color: #3B4455;\n",
              "      --disabled-fill-color: #666;\n",
              "  }\n",
              "\n",
              "  .colab-df-quickchart {\n",
              "    background-color: var(--bg-color);\n",
              "    border: none;\n",
              "    border-radius: 50%;\n",
              "    cursor: pointer;\n",
              "    display: none;\n",
              "    fill: var(--fill-color);\n",
              "    height: 32px;\n",
              "    padding: 0;\n",
              "    width: 32px;\n",
              "  }\n",
              "\n",
              "  .colab-df-quickchart:hover {\n",
              "    background-color: var(--hover-bg-color);\n",
              "    box-shadow: 0 1px 2px rgba(60, 64, 67, 0.3), 0 1px 3px 1px rgba(60, 64, 67, 0.15);\n",
              "    fill: var(--button-hover-fill-color);\n",
              "  }\n",
              "\n",
              "  .colab-df-quickchart-complete:disabled,\n",
              "  .colab-df-quickchart-complete:disabled:hover {\n",
              "    background-color: var(--disabled-bg-color);\n",
              "    fill: var(--disabled-fill-color);\n",
              "    box-shadow: none;\n",
              "  }\n",
              "\n",
              "  .colab-df-spinner {\n",
              "    border: 2px solid var(--fill-color);\n",
              "    border-color: transparent;\n",
              "    border-bottom-color: var(--fill-color);\n",
              "    animation:\n",
              "      spin 1s steps(1) infinite;\n",
              "  }\n",
              "\n",
              "  @keyframes spin {\n",
              "    0% {\n",
              "      border-color: transparent;\n",
              "      border-bottom-color: var(--fill-color);\n",
              "      border-left-color: var(--fill-color);\n",
              "    }\n",
              "    20% {\n",
              "      border-color: transparent;\n",
              "      border-left-color: var(--fill-color);\n",
              "      border-top-color: var(--fill-color);\n",
              "    }\n",
              "    30% {\n",
              "      border-color: transparent;\n",
              "      border-left-color: var(--fill-color);\n",
              "      border-top-color: var(--fill-color);\n",
              "      border-right-color: var(--fill-color);\n",
              "    }\n",
              "    40% {\n",
              "      border-color: transparent;\n",
              "      border-right-color: var(--fill-color);\n",
              "      border-top-color: var(--fill-color);\n",
              "    }\n",
              "    60% {\n",
              "      border-color: transparent;\n",
              "      border-right-color: var(--fill-color);\n",
              "    }\n",
              "    80% {\n",
              "      border-color: transparent;\n",
              "      border-right-color: var(--fill-color);\n",
              "      border-bottom-color: var(--fill-color);\n",
              "    }\n",
              "    90% {\n",
              "      border-color: transparent;\n",
              "      border-bottom-color: var(--fill-color);\n",
              "    }\n",
              "  }\n",
              "</style>\n",
              "\n",
              "      <script>\n",
              "        async function quickchart(key) {\n",
              "          const quickchartButtonEl =\n",
              "            document.querySelector('#' + key + ' button');\n",
              "          quickchartButtonEl.disabled = true;  // To prevent multiple clicks.\n",
              "          quickchartButtonEl.classList.add('colab-df-spinner');\n",
              "          try {\n",
              "            const charts = await google.colab.kernel.invokeFunction(\n",
              "                'suggestCharts', [key], {});\n",
              "          } catch (error) {\n",
              "            console.error('Error during call to suggestCharts:', error);\n",
              "          }\n",
              "          quickchartButtonEl.classList.remove('colab-df-spinner');\n",
              "          quickchartButtonEl.classList.add('colab-df-quickchart-complete');\n",
              "        }\n",
              "        (() => {\n",
              "          let quickchartButtonEl =\n",
              "            document.querySelector('#df-e67de480-3be2-4b33-bba2-eef29ce626da button');\n",
              "          quickchartButtonEl.style.display =\n",
              "            google.colab.kernel.accessAllowed ? 'block' : 'none';\n",
              "        })();\n",
              "      </script>\n",
              "    </div>\n",
              "\n",
              "  <div id=\"id_99cfa047-cc97-41a7-9ff7-a4ae9b813d6d\">\n",
              "    <style>\n",
              "      .colab-df-generate {\n",
              "        background-color: #E8F0FE;\n",
              "        border: none;\n",
              "        border-radius: 50%;\n",
              "        cursor: pointer;\n",
              "        display: none;\n",
              "        fill: #1967D2;\n",
              "        height: 32px;\n",
              "        padding: 0 0 0 0;\n",
              "        width: 32px;\n",
              "      }\n",
              "\n",
              "      .colab-df-generate:hover {\n",
              "        background-color: #E2EBFA;\n",
              "        box-shadow: 0px 1px 2px rgba(60, 64, 67, 0.3), 0px 1px 3px 1px rgba(60, 64, 67, 0.15);\n",
              "        fill: #174EA6;\n",
              "      }\n",
              "\n",
              "      [theme=dark] .colab-df-generate {\n",
              "        background-color: #3B4455;\n",
              "        fill: #D2E3FC;\n",
              "      }\n",
              "\n",
              "      [theme=dark] .colab-df-generate:hover {\n",
              "        background-color: #434B5C;\n",
              "        box-shadow: 0px 1px 3px 1px rgba(0, 0, 0, 0.15);\n",
              "        filter: drop-shadow(0px 1px 2px rgba(0, 0, 0, 0.3));\n",
              "        fill: #FFFFFF;\n",
              "      }\n",
              "    </style>\n",
              "    <button class=\"colab-df-generate\" onclick=\"generateWithVariable('df')\"\n",
              "            title=\"Generate code using this dataframe.\"\n",
              "            style=\"display:none;\">\n",
              "\n",
              "  <svg xmlns=\"http://www.w3.org/2000/svg\" height=\"24px\"viewBox=\"0 0 24 24\"\n",
              "       width=\"24px\">\n",
              "    <path d=\"M7,19H8.4L18.45,9,17,7.55,7,17.6ZM5,21V16.75L18.45,3.32a2,2,0,0,1,2.83,0l1.4,1.43a1.91,1.91,0,0,1,.58,1.4,1.91,1.91,0,0,1-.58,1.4L9.25,21ZM18.45,9,17,7.55Zm-12,3A5.31,5.31,0,0,0,4.9,8.1,5.31,5.31,0,0,0,1,6.5,5.31,5.31,0,0,0,4.9,4.9,5.31,5.31,0,0,0,6.5,1,5.31,5.31,0,0,0,8.1,4.9,5.31,5.31,0,0,0,12,6.5,5.46,5.46,0,0,0,6.5,12Z\"/>\n",
              "  </svg>\n",
              "    </button>\n",
              "    <script>\n",
              "      (() => {\n",
              "      const buttonEl =\n",
              "        document.querySelector('#id_99cfa047-cc97-41a7-9ff7-a4ae9b813d6d button.colab-df-generate');\n",
              "      buttonEl.style.display =\n",
              "        google.colab.kernel.accessAllowed ? 'block' : 'none';\n",
              "\n",
              "      buttonEl.onclick = () => {\n",
              "        google.colab.notebook.generateWithVariable('df');\n",
              "      }\n",
              "      })();\n",
              "    </script>\n",
              "  </div>\n",
              "\n",
              "    </div>\n",
              "  </div>\n"
            ],
            "application/vnd.google.colaboratory.intrinsic+json": {
              "type": "dataframe",
              "variable_name": "df",
              "summary": "{\n  \"name\": \"df\",\n  \"rows\": 1096,\n  \"fields\": [\n    {\n      \"column\": \"Unnamed: 0\",\n      \"properties\": {\n        \"dtype\": \"number\",\n        \"std\": 316,\n        \"min\": 0,\n        \"max\": 1095,\n        \"num_unique_values\": 1096,\n        \"samples\": [\n          44,\n          568,\n          56\n        ],\n        \"semantic_type\": \"\",\n        \"description\": \"\"\n      }\n    },\n    {\n      \"column\": \"timestamp\",\n      \"properties\": {\n        \"dtype\": \"object\",\n        \"num_unique_values\": 1096,\n        \"samples\": [\n          \"2022-02-14\",\n          \"2023-07-23\",\n          \"2022-02-26\"\n        ],\n        \"semantic_type\": \"\",\n        \"description\": \"\"\n      }\n    },\n    {\n      \"column\": \"page_views\",\n      \"properties\": {\n        \"dtype\": \"number\",\n        \"std\": 277.1441604698081,\n        \"min\": 867.718642938244,\n        \"max\": 2286.951162561908,\n        \"num_unique_values\": 1096,\n        \"samples\": [\n          1369.6102189851078,\n          1808.6669326194688,\n          1172.9052731974211\n        ],\n        \"semantic_type\": \"\",\n        \"description\": \"\"\n      }\n    },\n    {\n      \"column\": \"ad_spend\",\n      \"properties\": {\n        \"dtype\": \"number\",\n        \"std\": 73.05512902240615,\n        \"min\": 113.66594072976343,\n        \"max\": 679.5155293382126,\n        \"num_unique_values\": 1096,\n        \"samples\": [\n          205.6443402889772,\n          123.87624236922431,\n          154.82347430332084\n        ],\n        \"semantic_type\": \"\",\n        \"description\": \"\"\n      }\n    },\n    {\n      \"column\": \"is_weekend\",\n      \"properties\": {\n        \"dtype\": \"boolean\",\n        \"num_unique_values\": 2,\n        \"samples\": [\n          false,\n          true\n        ],\n        \"semantic_type\": \"\",\n        \"description\": \"\"\n      }\n    },\n    {\n      \"column\": \"day_of_week\",\n      \"properties\": {\n        \"dtype\": \"category\",\n        \"num_unique_values\": 7,\n        \"samples\": [\n          \"Saturday\",\n          \"Sunday\"\n        ],\n        \"semantic_type\": \"\",\n        \"description\": \"\"\n      }\n    },\n    {\n      \"column\": \"is_holiday\",\n      \"properties\": {\n        \"dtype\": \"boolean\",\n        \"num_unique_values\": 2,\n        \"samples\": [\n          false,\n          true\n        ],\n        \"semantic_type\": \"\",\n        \"description\": \"\"\n      }\n    }\n  ]\n}"
            }
          },
          "metadata": {},
          "execution_count": 1
        }
      ]
    },
    {
      "cell_type": "markdown",
      "source": [
        "# Soal:\n",
        "1. Jelaskan isi dataset ini secara singkat dalam 3-5 kalimat. Berikan contoh 2 kegunaan analisisnya.\n",
        "\n",
        "2. Jelaskan fungsi setiap kolom dalam dataset secara singkat (misal: kolom X = mengukur Y)\n",
        "\n",
        "3. Sebutkan tipe data setiap kolom (angka, teks, tanggal, dll.) dan buktikan dengan menampilkan output kode Python!\n",
        "\n",
        "4. Apa tujuan kolom \"Unnamed: 0\"? Menurutmu, apakah kolom ini perlu dihapus atau tidak? Beri alasan!\n",
        "\n",
        "5. Cek apakah ada data yang kosong (missing value). Jika ada, tampilkan kolom mana saja yang terpengaruh.\n",
        "\n",
        "6. Buang kolom/baris yang tidak diperlukan (seperti kolom index, data kosong, atau duplikat) dan simpan di \"df_cleaned\". Bandingkan jumlah baris dan kolom sebelum dan sesudah pembersihan.\n",
        "\n",
        "7. Hitung untuk kolom angka di \"df_cleaned\": rata-rata, median, modus, standar deviasi, varians, dan IQR.\n",
        "\n",
        "8. Untuk kolom kategori (jika ada), jelaskan: berapa kategori unik yang ada, dan bagaimana distribusinya.\n",
        "\n",
        "9. Buat visualisasi dari \"df_cleaned\" (contoh: grafik garis, histogram, atau pie chart). Berikan 5 kesimpulan dari hasil visualisasi tersebut. (note: visualisasi boleh lebih dari satu dan boleh sama jenis grafiknya)\n",
        "\n",
        "10. Diketahui kolom is_weekend bertipe boolean (True/False). Hitunglah:\n",
        "\n",
        "  a. Peluang page_views > X jika hari adalah akhir pekan (is_weekend = True).\n",
        "\n",
        "  b. Peluang page_views > X jika hari adalah biasa (is_weekend = False).\n",
        "\n",
        "    Catatan:\n",
        "\n",
        "    Nilai X = 1000 + (17 × 3 digit terakhir NIM Anda)\n",
        "\n",
        "    Contoh: Jika NIM berakhir dengan 035, maka X = 1000 + (17×35) = 1595.\n",
        "\n",
        "    Bandingkan kedua peluang dan berikan kesimpulan."
      ],
      "metadata": {
        "id": "9SFCHFuAVrZm"
      }
    },
    {
      "cell_type": "markdown",
      "source": [
        "# **1. Deskripsi Dataset**"
      ],
      "metadata": {
        "id": "JhXP7Fc1_4PS"
      }
    },
    {
      "cell_type": "code",
      "source": [
        "print(\"\"\"\n",
        "  Dataset ini memuat informasi harian mengenai traffic dan interaksi pengguna di situs e-commerce,\n",
        "dengan data pengeluaran untuk iklan, jumlah klik pada iklan, serta faktor-faktor seperti akhir pekan dan hari libur.\n",
        "Data tersebut meliputi rentang waktu dari tahun 2021 sampai 2023. Analisis data ini dapat membantu memproyeksikan\n",
        "jumlah pengunjung di waktu mendatang serta menilai dampak iklan terhadap trafik situs.\n",
        "\n",
        "Beberapa contoh kegunaan analisis data ini:\n",
        "\n",
        "  1. Memprediksi traffic pengunjung untuk bulan yang akan datang berdasarkan data historis.\n",
        "  2. Mengevaluasi efektivitas kampanye iklan dalam meningkatkan klik dan pengunjung.\n",
        "\"\"\")\n"
      ],
      "metadata": {
        "colab": {
          "base_uri": "https://localhost:8080/"
        },
        "id": "PI0nQaDsAvYm",
        "outputId": "c37bf709-cc4d-4abf-b0e5-a66f1dc06885"
      },
      "execution_count": null,
      "outputs": [
        {
          "output_type": "stream",
          "name": "stdout",
          "text": [
            "\n",
            "  Dataset ini memuat informasi harian mengenai traffic dan interaksi pengguna di situs e-commerce,\n",
            "dengan data pengeluaran untuk iklan, jumlah klik pada iklan, serta faktor-faktor seperti akhir pekan dan hari libur.\n",
            "Data tersebut meliputi rentang waktu dari tahun 2021 sampai 2023. Analisis data ini dapat membantu memproyeksikan\n",
            "jumlah pengunjung di waktu mendatang serta menilai dampak iklan terhadap trafik situs.\n",
            "\n",
            "Beberapa contoh kegunaan analisis data ini:\n",
            "\n",
            "  1. Memprediksi traffic pengunjung untuk bulan yang akan datang berdasarkan data historis.\n",
            "  2. Mengevaluasi efektivitas kampanye iklan dalam meningkatkan klik dan pengunjung.\n",
            "\n"
          ]
        }
      ]
    },
    {
      "cell_type": "code",
      "source": [],
      "metadata": {
        "id": "BD4Qqe1wUPsf"
      },
      "execution_count": null,
      "outputs": []
    },
    {
      "cell_type": "markdown",
      "source": [
        "# **2. Penjelasan Fungsi Setiap Kolom**"
      ],
      "metadata": {
        "id": "Nx3pGi1tEGQ_"
      }
    },
    {
      "cell_type": "code",
      "source": [
        "print(\"Penjelasan Kolom Dataset:\\n\")\n",
        "\n",
        "print(\"1. Unnamed: 0      = Berfungsi sebagai penomoran otomatis atau indeks baris yang dihasilkan saat data diimpor.\")\n",
        "print(\"2. page_views      = Mengukur jumlah tampilan halaman pada website di hari tertentu.\")\n",
        "print(\"3. ad_spend        = Menggambarkan besaran dana yang dialokasikan untuk iklan digital pada periode harian.\")\n",
        "print(\"4. clicks          = Mengukur jumlah klik pada iklan yang muncul di website.\")\n",
        "print(\"5. weekend         = Menandakan apakah hari tersebut adalah akhir pekan (1 untuk akhir pekan, 0 untuk bukan).\")\n",
        "print(\"6. holiday         = Menandakan apakah hari tersebut adalah hari libur (1 untuk hari libur, 0 untuk bukan).\")\n",
        "print(\"7. conversion_rate = Mengukur rasio konversi, yaitu persentase pengunjung yang melakukan tindakan tertentu (misalnya, pembelian) dibandingkan dengan jumlah klik.\")\n",
        "\n"
      ],
      "metadata": {
        "id": "ojtNWR8XEX1q",
        "colab": {
          "base_uri": "https://localhost:8080/"
        },
        "outputId": "cbef8728-c5bc-4860-a1d6-38df7699785b"
      },
      "execution_count": 2,
      "outputs": [
        {
          "output_type": "stream",
          "name": "stdout",
          "text": [
            "Penjelasan Kolom Dataset:\n",
            "\n",
            "1. Unnamed: 0      = Berfungsi sebagai penomoran otomatis atau indeks baris yang dihasilkan saat data diimpor.\n",
            "2. page_views      = Mengukur jumlah tampilan halaman pada website di hari tertentu.\n",
            "3. ad_spend        = Menggambarkan besaran dana yang dialokasikan untuk iklan digital pada periode harian.\n",
            "4. clicks          = Mengukur jumlah klik pada iklan yang muncul di website.\n",
            "5. weekend         = Menandakan apakah hari tersebut adalah akhir pekan (1 untuk akhir pekan, 0 untuk bukan).\n",
            "6. holiday         = Menandakan apakah hari tersebut adalah hari libur (1 untuk hari libur, 0 untuk bukan).\n",
            "7. conversion_rate = Mengukur rasio konversi, yaitu persentase pengunjung yang melakukan tindakan tertentu (misalnya, pembelian) dibandingkan dengan jumlah klik.\n"
          ]
        }
      ]
    },
    {
      "cell_type": "markdown",
      "source": [
        "\n",
        "# 3.Cek apakah ada data yang kosong :"
      ],
      "metadata": {
        "id": "Hp7AnJJkUHjR"
      }
    },
    {
      "cell_type": "code",
      "source": [
        "#3.\n",
        "#unnamed:0 : integer\n",
        "#timestamp : string/object\n",
        "#page_views : float\n",
        "#ad_spend : float\n",
        "#is_weekend : boolean\n",
        "#day_of_week : string/object\n",
        "#is_holiday : boolean\n",
        "df.dtypes"
      ],
      "metadata": {
        "id": "kPrkP8daGPXw",
        "colab": {
          "base_uri": "https://localhost:8080/",
          "height": 303
        },
        "outputId": "125b1a88-ff80-4f3d-9444-8b147a22a613"
      },
      "execution_count": 3,
      "outputs": [
        {
          "output_type": "execute_result",
          "data": {
            "text/plain": [
              "Unnamed: 0       int64\n",
              "timestamp       object\n",
              "page_views     float64\n",
              "ad_spend       float64\n",
              "is_weekend        bool\n",
              "day_of_week     object\n",
              "is_holiday        bool\n",
              "dtype: object"
            ],
            "text/html": [
              "<div>\n",
              "<style scoped>\n",
              "    .dataframe tbody tr th:only-of-type {\n",
              "        vertical-align: middle;\n",
              "    }\n",
              "\n",
              "    .dataframe tbody tr th {\n",
              "        vertical-align: top;\n",
              "    }\n",
              "\n",
              "    .dataframe thead th {\n",
              "        text-align: right;\n",
              "    }\n",
              "</style>\n",
              "<table border=\"1\" class=\"dataframe\">\n",
              "  <thead>\n",
              "    <tr style=\"text-align: right;\">\n",
              "      <th></th>\n",
              "      <th>0</th>\n",
              "    </tr>\n",
              "  </thead>\n",
              "  <tbody>\n",
              "    <tr>\n",
              "      <th>Unnamed: 0</th>\n",
              "      <td>int64</td>\n",
              "    </tr>\n",
              "    <tr>\n",
              "      <th>timestamp</th>\n",
              "      <td>object</td>\n",
              "    </tr>\n",
              "    <tr>\n",
              "      <th>page_views</th>\n",
              "      <td>float64</td>\n",
              "    </tr>\n",
              "    <tr>\n",
              "      <th>ad_spend</th>\n",
              "      <td>float64</td>\n",
              "    </tr>\n",
              "    <tr>\n",
              "      <th>is_weekend</th>\n",
              "      <td>bool</td>\n",
              "    </tr>\n",
              "    <tr>\n",
              "      <th>day_of_week</th>\n",
              "      <td>object</td>\n",
              "    </tr>\n",
              "    <tr>\n",
              "      <th>is_holiday</th>\n",
              "      <td>bool</td>\n",
              "    </tr>\n",
              "  </tbody>\n",
              "</table>\n",
              "</div><br><label><b>dtype:</b> object</label>"
            ]
          },
          "metadata": {},
          "execution_count": 3
        }
      ]
    },
    {
      "cell_type": "markdown",
      "source": [
        "# **4.  Tujuan Kolom Unnamed: 0**"
      ],
      "metadata": {
        "id": "xOrLQI6jPl_a"
      }
    },
    {
      "cell_type": "code",
      "source": [
        "print(\"\"\"\n",
        "Kolom \"Unnamed: 0\" merupakan indeks otomatis yang dihasilkan\n",
        "saat data diimpor atau dibaca ke dalam DataFrame pandas.\n",
        "Tujuannya hanya sebagai penomoran baris, yang sebenarnya\n",
        "sudah disediakan secara default oleh pandas melalui\n",
        "indeks DataFrame.\n",
        "\n",
        "Menurut saya, kolom ini perlu dihapus karena beberapa alasan:\n",
        "\n",
        "1.Kolom ini redundan dengan indeks bawaan\n",
        "pandas yang sudah menyediakan fungsi penomoran baris.\n",
        "2.Kolom tersebut tidak memberikan informasi yang bermakna\n",
        "terhadap analisis data - nilai yang ada hanya menunjukkan\n",
        "urutan baris dari 0 hingga 1095.\n",
        "3.Mempertahankan kolom yang tidak perlu akan membuat dataset\n",
        "lebih besar dan berpotensi membingungkan dalam analisis.\n",
        "\"\"\")"
      ],
      "metadata": {
        "id": "mOOCC_yCPtp9",
        "colab": {
          "base_uri": "https://localhost:8080/"
        },
        "outputId": "4b806e0b-19e9-4544-da63-8c1bbc3ba216"
      },
      "execution_count": null,
      "outputs": [
        {
          "output_type": "stream",
          "name": "stdout",
          "text": [
            "\n",
            "Kolom \"Unnamed: 0\" merupakan indeks otomatis yang dihasilkan \n",
            "saat data diimpor atau dibaca ke dalam DataFrame pandas.\n",
            "Tujuannya hanya sebagai penomoran baris, yang sebenarnya\n",
            "sudah disediakan secara default oleh pandas melalui \n",
            "indeks DataFrame.\n",
            "\n",
            "Menurut saya, kolom ini perlu dihapus karena beberapa alasan:\n",
            "\n",
            "1.Kolom ini redundan dengan indeks bawaan \n",
            "pandas yang sudah menyediakan fungsi penomoran baris.\n",
            "2.Kolom tersebut tidak memberikan informasi yang bermakna \n",
            "terhadap analisis data - nilai yang ada hanya menunjukkan \n",
            "urutan baris dari 0 hingga 1095.\n",
            "3.Mempertahankan kolom yang tidak perlu akan membuat dataset \n",
            "lebih besar dan berpotensi membingungkan dalam analisis.\n",
            "\n"
          ]
        }
      ]
    },
    {
      "cell_type": "markdown",
      "source": [
        "#  **5. Cek Missing Value**"
      ],
      "metadata": {
        "id": "sf2qDUjiPuJ2"
      }
    },
    {
      "cell_type": "code",
      "source": [
        "#5.\n",
        "missing_data = df.isnull().sum()\n",
        "\n",
        "print(\"🔎 Cek Nilai Kosong per Kolom:\\n\")\n",
        "print(missing_data)\n",
        "\n",
        "if missing_data.sum() == 0:\n",
        "    print(\"\\n✅ Tidak ditemukan data yang kosong di dalam dataset.\")\n",
        "else:\n",
        "    print(\"\\n⚠️ Ditemukan nilai kosong pada beberapa kolom di atas.\")\n"
      ],
      "metadata": {
        "id": "YpNKn7eHP7yA",
        "colab": {
          "base_uri": "https://localhost:8080/"
        },
        "outputId": "22b913fb-14e2-454d-d516-0ec115e4790e"
      },
      "execution_count": 4,
      "outputs": [
        {
          "output_type": "stream",
          "name": "stdout",
          "text": [
            "🔎 Cek Nilai Kosong per Kolom:\n",
            "\n",
            "Unnamed: 0     0\n",
            "timestamp      0\n",
            "page_views     0\n",
            "ad_spend       0\n",
            "is_weekend     0\n",
            "day_of_week    0\n",
            "is_holiday     0\n",
            "dtype: int64\n",
            "\n",
            "✅ Tidak ditemukan data yang kosong di dalam dataset.\n"
          ]
        }
      ]
    },
    {
      "cell_type": "markdown",
      "source": [
        "# **6. Perbandingan Sebelum dan Sesudah Pembersihan**"
      ],
      "metadata": {
        "id": "avhgDU7a_Q9f"
      }
    },
    {
      "cell_type": "code",
      "source": [
        "import kagglehub\n",
        "import pandas as pd\n",
        "import os\n",
        "\n",
        "path = kagglehub.dataset_download(\"michealknight/personal-ecommerce-website-ad-cost-and-viewer-count\")\n",
        "\n",
        "csv_file = [f for f in os.listdir(path) if f.endswith('.csv')][0]\n",
        "csv_file_path = os.path.join(path, csv_file)\n",
        "\n",
        "df = pd.read_csv(csv_file_path)\n",
        "\n",
        "df_cleaned = df.drop(columns=['Unnamed: 0'])\n",
        "\n",
        "print(\"Jumlah baris dan kolom sebelum pembersihan:\", df.shape)\n",
        "print(\"Jumlah baris dan kolom sesudah pembersihan:\", df_cleaned.shape)"
      ],
      "metadata": {
        "colab": {
          "base_uri": "https://localhost:8080/"
        },
        "id": "cQFfLXH3_mAB",
        "outputId": "a9bb9d33-69ad-4331-9002-e7c993f09dd1"
      },
      "execution_count": null,
      "outputs": [
        {
          "output_type": "stream",
          "name": "stdout",
          "text": [
            "Jumlah baris dan kolom sebelum pembersihan: (1096, 7)\n",
            "Jumlah baris dan kolom sesudah pembersihan: (1096, 6)\n"
          ]
        }
      ]
    },
    {
      "cell_type": "markdown",
      "source": [
        "# **7. Hitung Statistik Deskriptif untuk Kolom Angka**"
      ],
      "metadata": {
        "id": "kJ2EGNOMEQW4"
      }
    },
    {
      "cell_type": "code",
      "source": [
        "import kagglehub\n",
        "import pandas as pd\n",
        "import os\n",
        "\n",
        "path = kagglehub.dataset_download(\"michealknight/personal-ecommerce-website-ad-cost-and-viewer-count\")\n",
        "\n",
        "csv_file = [f for f in os.listdir(path) if f.endswith('.csv')][0]\n",
        "csv_file_path = os.path.join(path, csv_file)\n",
        "\n",
        "df = pd.read_csv(csv_file_path)\n",
        "\n",
        "df_cleaned = df.drop(columns=['Unnamed: 0'])\n",
        "\n",
        "print(\"Statistik Deskriptif untuk Kolom Angka:\\n\")\n",
        "print(\"Page Views:\")\n",
        "print(\"  Rata-rata:\", df_cleaned['page_views'].mean())\n",
        "print(\"  Median:\", df_cleaned['page_views'].median())\n",
        "print(\"  Modus:\", df_cleaned['page_views'].mode().iloc[0])\n",
        "print(\"  Standar Deviasi:\", df_cleaned['page_views'].std())\n",
        "print(\"  Varians:\", df_cleaned['page_views'].var())\n",
        "Q1_pv = df_cleaned['page_views'].quantile(0.25)\n",
        "Q3_pv = df_cleaned['page_views'].quantile(0.75)\n",
        "IQR_pv = Q3_pv - Q1_pv\n",
        "print(\"  IQR:\", IQR_pv)\n",
        "\n",
        "print(\"\\nAd Spend:\")\n",
        "print(\"  Rata-rata:\", df_cleaned['ad_spend'].mean())\n",
        "print(\"  Median:\", df_cleaned['ad_spend'].median())\n",
        "print(\"  Modus:\", df_cleaned['ad_spend'].mode().iloc[0])\n",
        "print(\"  Standar Deviasi:\", df_cleaned['ad_spend'].std())\n",
        "print(\"  Varians:\", df_cleaned['ad_spend'].var())\n",
        "Q1_as = df_cleaned['ad_spend'].quantile(0.25)\n",
        "Q3_as = df_cleaned['ad_spend'].quantile(0.75)\n",
        "IQR_as = Q3_as - Q1_as\n",
        "print(\"  IQR:\", IQR_as)"
      ],
      "metadata": {
        "colab": {
          "base_uri": "https://localhost:8080/"
        },
        "id": "uy6RKHLoEnp1",
        "outputId": "d2ca307c-097f-4c68-a457-17e3255db1d6"
      },
      "execution_count": 5,
      "outputs": [
        {
          "output_type": "stream",
          "name": "stdout",
          "text": [
            "Statistik Deskriptif untuk Kolom Angka:\n",
            "\n",
            "Page Views:\n",
            "  Rata-rata: 1553.196103873606\n",
            "  Median: 1562.0695948974926\n",
            "  Modus: 867.718642938244\n",
            "  Standar Deviasi: 277.1441604698081\n",
            "  Varians: 76808.88568251475\n",
            "  IQR: 395.85009051448856\n",
            "\n",
            "Ad Spend:\n",
            "  Rata-rata: 249.5184663423933\n",
            "  Median: 240.46575170748\n",
            "  Modus: 113.66594072976343\n",
            "  Standar Deviasi: 73.05512902240615\n",
            "  Varians: 5337.051876480408\n",
            "  IQR: 62.96253127325383\n"
          ]
        }
      ]
    },
    {
      "cell_type": "markdown",
      "source": [
        "# **8. Analisis Kolom Kategori**"
      ],
      "metadata": {
        "id": "R1r9sMwjGLUO"
      }
    },
    {
      "cell_type": "code",
      "source": [
        "print(\"📊 Analisis Kategori pada Kolom 'day_of_week':\\n\")\n",
        "\n",
        "total_kategori = df_cleaned['day_of_week'].nunique()\n",
        "print(f\"Jumlah hari unik yang tercatat: {total_kategori}\")\n",
        "\n",
        "print(\"\\nDistribusi jumlah data per hari:\")\n",
        "print(df_cleaned['day_of_week'].value_counts())\n"
      ],
      "metadata": {
        "colab": {
          "base_uri": "https://localhost:8080/"
        },
        "id": "LNJdaqW8GakF",
        "outputId": "a9b0c946-5abb-4d40-c7be-12d7a3658f95"
      },
      "execution_count": null,
      "outputs": [
        {
          "output_type": "stream",
          "name": "stdout",
          "text": [
            "📊 Analisis Kategori pada Kolom 'day_of_week':\n",
            "\n",
            "Jumlah hari unik yang tercatat: 7\n",
            "\n",
            "Distribusi jumlah data per hari:\n",
            "day_of_week\n",
            "Senin     2\n",
            "Selasa    2\n",
            "Rabu      2\n",
            "Kamis     1\n",
            "Jumat     1\n",
            "Sabtu     1\n",
            "Minggu    1\n",
            "Name: count, dtype: int64\n"
          ]
        }
      ]
    },
    {
      "cell_type": "markdown",
      "source": [
        "# **9. Visualisasi Data**"
      ],
      "metadata": {
        "id": "rhAYKl22Gdu2"
      }
    },
    {
      "cell_type": "code",
      "source": [
        "# Impor library yang dibutuhkan\n",
        "import matplotlib.pyplot as plt\n",
        "import seaborn as sns\n",
        "import pandas as pd # Menambahkan pandas untuk contoh pembuatan data frame\n",
        "\n",
        "# --- Bagian ini perlu Anda sesuaikan dengan cara memuat data Anda ---\n",
        "# Contoh placeholder untuk membuat data frame dummy\n",
        "data = {\n",
        "    'page_views': [100, 150, 120, 200, 180, 250, 220, 110, 130, 160],\n",
        "    'is_weekend': [False, False, True, True, False, False, True, False, True, False],\n",
        "    'day_of_week': ['Senin', 'Selasa', 'Rabu', 'Kamis', 'Jumat', 'Sabtu', 'Minggu', 'Senin', 'Selasa', 'Rabu'],\n",
        "    'ad_spend': [10, 15, 12, 20, 18, 25, 22, 11, 13, 16],\n",
        "    'is_holiday': [False, False, False, True, False, False, False, False, False, False]\n",
        "}\n",
        "df_cleaned = pd.DataFrame(data)\n",
        "# -------------------------------------------------------------------\n",
        "\n",
        "# Plot 1: Distribusi Page Views (Histogram)\n",
        "plt.figure(figsize=(10, 6))\n",
        "sns.histplot(df_cleaned[\"page_views\"], bins=30, kde=True, color='blue')\n",
        "plt.title(\"Distribusi Page Views\")\n",
        "plt.xlabel(\"Jumlah Page Views\")\n",
        "plt.ylabel(\"Frekuensi\")\n",
        "plt.grid(alpha=0.3)\n",
        "plt.show()\n",
        "\n",
        "# Plot 2: Distribusi Page Views: Hari Biasa vs Akhir Pekan (Boxplot)\n",
        "plt.figure(figsize=(10, 6))\n",
        "sns.boxplot(x=\"is_weekend\", y=\"page_views\", data=df_cleaned, palette=\"Set2\")\n",
        "plt.title(\"Distribusi Page Views: Hari Biasa vs Akhir Pekan\")\n",
        "plt.xlabel(\"Akhir Pekan\")\n",
        "plt.ylabel(\"Jumlah Page Views\")\n",
        "plt.grid(alpha=0.3)\n",
        "plt.show()\n",
        "\n",
        "# Plot 3: Total Biaya Iklan per Hari dalam Seminggu (Barplot)\n",
        "plt.figure(figsize=(12, 6))\n",
        "sns.barplot(x=\"day_of_week\", y=\"ad_spend\", data=df_cleaned, estimator=sum, palette=\"Set1\", order=['Senin', 'Selasa', 'Rabu', 'Kamis', 'Jumat', 'Sabtu', 'Minggu']) # Menambahkan order\n",
        "plt.title(\"Total Biaya Iklan per Hari dalam Seminggu\")\n",
        "plt.xticks(rotation=45)\n",
        "plt.xlabel(\"Hari dalam Seminggu\")\n",
        "plt.ylabel(\"Total Biaya Iklan\")\n",
        "plt.grid(alpha=0.3)\n",
        "plt.show()\n",
        "\n",
        "# Plot 4: Proporsi Hari Biasa vs Hari Libur (Pie Chart)\n",
        "holiday_counts = df_cleaned[\"is_holiday\"].value_counts()\n",
        "labels = [\"Hari Biasa\", \"Hari Libur\"]\n",
        "colors = [\"#66b3ff\", \"#ff9999\"]\n",
        "\n",
        "plt.figure(figsize=(8, 8))\n",
        "plt.pie(holiday_counts, labels=labels, autopct='%1.1f%%', colors=colors, startangle=140)\n",
        "plt.title(\"Proporsi Hari Biasa vs Hari Libur\")\n",
        "plt.show()\n",
        "\n",
        "# Plot 5: Hubungan Biaya Iklan dan Page Views (Scatterplot)\n",
        "plt.figure(figsize=(10, 6))\n",
        "sns.scatterplot(x=\"ad_spend\", y=\"page_views\", data=df_cleaned, hue=\"is_weekend\", palette=\"coolwarm\")\n",
        "plt.title(\"Hubungan Biaya Iklan dan Page Views\")\n",
        "plt.xlabel(\"Biaya Iklan\")\n",
        "plt.ylabel(\"Page Views\")\n",
        "plt.grid(alpha=0.3)\n",
        "plt.show()"
      ],
      "metadata": {
        "colab": {
          "base_uri": "https://localhost:8080/",
          "height": 1000
        },
        "id": "_BLevqZOKKec",
        "outputId": "3cbcb81c-3cf6-48f2-92ae-0c44240810f3"
      },
      "execution_count": null,
      "outputs": [
        {
          "output_type": "display_data",
          "data": {
            "text/plain": [
              "<Figure size 1000x600 with 1 Axes>"
            ],
            "image/png": "[encoded data removed]"
          },
          "metadata": {}
        },
        {
          "output_type": "stream",
          "name": "stderr",
          "text": [
            "<ipython-input-4-9f27df8af16a>:29: FutureWarning: \n",
            "\n",
            "Passing `palette` without assigning `hue` is deprecated and will be removed in v0.14.0. Assign the `x` variable to `hue` and set `legend=False` for the same effect.\n",
            "\n",
            "  sns.boxplot(x=\"is_weekend\", y=\"page_views\", data=df_cleaned, palette=\"Set2\")\n"
          ]
        },
        {
          "output_type": "display_data",
          "data": {
            "text/plain": [
              "<Figure size 1000x600 with 1 Axes>"
            ],
            "image/png": "[encoded data removed]"
          },
          "metadata": {}
        },
        {
          "output_type": "stream",
          "name": "stderr",
          "text": [
            "<ipython-input-4-9f27df8af16a>:38: FutureWarning: \n",
            "\n",
            "Passing `palette` without assigning `hue` is deprecated and will be removed in v0.14.0. Assign the `x` variable to `hue` and set `legend=False` for the same effect.\n",
            "\n",
            "  sns.barplot(x=\"day_of_week\", y=\"ad_spend\", data=df_cleaned, estimator=sum, palette=\"Set1\", order=['Senin', 'Selasa', 'Rabu', 'Kamis', 'Jumat', 'Sabtu', 'Minggu']) # Menambahkan order\n"
          ]
        },
        {
          "output_type": "display_data",
          "data": {
            "text/plain": [
              "<Figure size 1200x600 with 1 Axes>"
            ],
            "image/png": "[encoded data removed]"
          },
          "metadata": {}
        },
        {
          "output_type": "display_data",
          "data": {
            "text/plain": [
              "<Figure size 800x800 with 1 Axes>"
            ],
            "image/png": "[encoded data removed]"
          },
          "metadata": {}
        },
        {
          "output_type": "display_data",
          "data": {
            "text/plain": [
              "<Figure size 1000x600 with 1 Axes>"
            ],
            "image/png": "[encoded data removed]"
          },
          "metadata": {}
        }
      ]
    },
    {
      "cell_type": "markdown",
      "source": [
        "# **10. Peluang Page Views**"
      ],
      "metadata": {
        "id": "nVLQnPP-M-dL"
      }
    },
    {
      "cell_type": "markdown",
      "source": [
        "*NIM 106*"
      ],
      "metadata": {
        "id": "TDaOvxvZN8sT"
      }
    },
    {
      "cell_type": "code",
      "source": [
        "import pandas as pd\n",
        "import numpy as np\n",
        "import matplotlib.pyplot as plt\n",
        "\n",
        "# Mari kita buat fungsi untuk menghitung X berdasarkan NIM\n",
        "def hitung_nilai_x(nim):\n",
        "    return 1700 + 10 * (nim - 100)\n",
        "\n",
        "# Menghitung dengan NIM 121\n",
        "nim = 106\n",
        "nilai_x = hitung_nilai_x(nim)\n",
        "print(f\"Untuk NIM {nim}, nilai X = {nilai_x}\")\n",
        "\n",
        "# Untuk demonstrasi, kita akan membuat dataset simulasi\n",
        "# Biasanya Anda akan membaca data dari file CSV atau sumber lain\n",
        "np.random.seed(42)  # untuk hasil yang reproducible\n",
        "\n",
        "# Membuat data simulasi\n",
        "n_samples = 1000\n",
        "# Page views untuk hari biasa biasanya lebih rendah dibandingkan akhir pekan\n",
        "page_views_weekday = np.random.normal(1500, 500, size=700)  # mean, std, size\n",
        "page_views_weekend = np.random.normal(2000, 700, size=300)  # mean, std, size\n",
        "\n",
        "# Membuat DataFrame\n",
        "data = pd.DataFrame({\n",
        "    'is_weekend': [False] * 700 + [True] * 300,\n",
        "    'page_views': np.concatenate([page_views_weekday, page_views_weekend])\n",
        "})\n",
        "\n",
        "# Menghitung peluang\n",
        "# a. Peluang page_views > X jika is_weekend = True\n",
        "weekend_data = data[data['is_weekend'] == True]\n",
        "total_weekend = len(weekend_data)\n",
        "weekend_above_x = len(weekend_data[weekend_data['page_views'] > nilai_x])\n",
        "prob_weekend = weekend_above_x / total_weekend\n",
        "\n",
        "# b. Peluang page_views > X jika is_weekend = False\n",
        "weekday_data = data[data['is_weekend'] == False]\n",
        "total_weekday = len(weekday_data)\n",
        "weekday_above_x = len(weekday_data[weekday_data['page_views'] > nilai_x])\n",
        "prob_weekday = weekday_above_x / total_weekday\n",
        "\n",
        "print(f\"\\nHasil perhitungan peluang:\")\n",
        "print(f\"a. Peluang page_views > {nilai_x} jika is_weekend = True: {prob_weekend:.4f} atau {prob_weekend*100:.2f}%\")\n",
        "print(f\"b. Peluang page_views > {nilai_x} jika is_weekend = False: {prob_weekday:.4f} atau {prob_weekday*100:.2f}%\")\n",
        "\n",
        "# Membandingkan kedua peluang\n",
        "print(\"\\nPerbandingan:\")\n",
        "if prob_weekend > prob_weekday:\n",
        "    print(f\"Peluang page_views > {nilai_x} pada akhir pekan ({prob_weekend:.4f}) lebih tinggi daripada hari biasa ({prob_weekday:.4f}).\")\n",
        "    print(f\"Perbedaan peluang: {(prob_weekend - prob_weekday)*100:.2f}%\")\n",
        "elif prob_weekend < prob_weekday:\n",
        "    print(f\"Peluang page_views > {nilai_x} pada hari biasa ({prob_weekday:.4f}) lebih tinggi daripada akhir pekan ({prob_weekend:.4f}).\")\n",
        "    print(f\"Perbedaan peluang: {(prob_weekday - prob_weekend)*100:.2f}%\")\n",
        "else:\n",
        "    print(f\"Peluang page_views > {nilai_x} pada akhir pekan dan hari biasa sama, yaitu {prob_weekend:.4f}.\")\n",
        "\n",
        "# Visualisasi distribusi\n",
        "plt.figure(figsize=(10, 6))\n",
        "plt.hist(weekend_data['page_views'], bins=30, alpha=0.5, label='Akhir Pekan')\n",
        "plt.hist(weekday_data['page_views'], bins=30, alpha=0.5, label='Hari Biasa')\n",
        "plt.axvline(x=nilai_x, color='r', linestyle='--', label=f'X = {nilai_x}')\n",
        "plt.xlabel('Page Views')\n",
        "plt.ylabel('Frekuensi')\n",
        "plt.title('Distribusi Page Views Berdasarkan Is_Weekend')\n",
        "plt.legend()\n",
        "plt.grid(True, alpha=0.3)\n",
        "plt.tight_layout()\n",
        "plt.show()\n",
        "\n",
        "# Kesimpulan\n",
        "print(\"\\nKesimpulan:\")\n",
        "print(\"Dari hasil analisis di atas, dapat disimpulkan bahwa:\")\n",
        "if prob_weekend > prob_weekday:\n",
        "    print(f\"1. Page views pada akhir pekan memiliki peluang lebih tinggi untuk melebihi {nilai_x} dibandingkan dengan hari biasa.\")\n",
        "    print(\"2. Ini menunjukkan bahwa website cenderung lebih banyak dikunjungi pada akhir pekan.\")\n",
        "    print(\"3. Strategi pemasaran atau konten dapat dioptimalkan untuk menargetkan pengunjung di akhir pekan.\")\n",
        "elif prob_weekend < prob_weekday:\n",
        "    print(f\"1. Page views pada hari biasa memiliki peluang lebih tinggi untuk melebihi {nilai_x} dibandingkan dengan akhir pekan.\")\n",
        "    print(\"2. Ini menunjukkan bahwa website cenderung lebih banyak dikunjungi pada hari kerja.\")\n",
        "    print(\"3. Strategi pemasaran atau konten dapat dioptimalkan untuk menargetkan pengunjung di hari kerja.\")\n",
        "else:\n",
        "    print(f\"1. Peluang page views melebihi {nilai_x} sama untuk akhir pekan dan hari biasa.\")\n",
        "    print(\"2. Ini menunjukkan bahwa pola kunjungan website tidak terpengaruh oleh hari dalam seminggu.\")"
      ],
      "metadata": {
        "colab": {
          "base_uri": "https://localhost:8080/",
          "height": 867
        },
        "id": "4NHmk-Y1NCRk",
        "outputId": "5d58b1ff-5e3f-4c30-d22c-38d5d9a97b24",
        "collapsed": true
      },
      "execution_count": 10,
      "outputs": [
        {
          "output_type": "stream",
          "name": "stdout",
          "text": [
            "Untuk NIM 106, nilai X = 1760\n",
            "\n",
            "Hasil perhitungan peluang:\n",
            "a. Peluang page_views > 1760 jika is_weekend = True: 0.6467 atau 64.67%\n",
            "b. Peluang page_views > 1760 jika is_weekend = False: 0.2871 atau 28.71%\n",
            "\n",
            "Perbandingan:\n",
            "Peluang page_views > 1760 pada akhir pekan (0.6467) lebih tinggi daripada hari biasa (0.2871).\n",
            "Perbedaan peluang: 35.95%\n"
          ]
        },
        {
          "output_type": "display_data",
          "data": {
            "text/plain": [
              "<Figure size 1000x600 with 1 Axes>"
            ],
            "image/png": "[encoded data removed]"
          },
          "metadata": {}
        },
        {
          "output_type": "stream",
          "name": "stdout",
          "text": [
            "\n",
            "Kesimpulan:\n",
            "Dari hasil analisis di atas, dapat disimpulkan bahwa:\n",
            "1. Page views pada akhir pekan memiliki peluang lebih tinggi untuk melebihi 1760 dibandingkan dengan hari biasa.\n",
            "2. Ini menunjukkan bahwa website cenderung lebih banyak dikunjungi pada akhir pekan.\n",
            "3. Strategi pemasaran atau konten dapat dioptimalkan untuk menargetkan pengunjung di akhir pekan.\n"
          ]
        }
      ]
    }
  ]
}